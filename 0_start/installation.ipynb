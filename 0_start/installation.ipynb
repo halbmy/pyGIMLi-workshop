{
 "cells": [
  {
   "attachments": {},
   "cell_type": "markdown",
   "metadata": {},
   "source": [
    "## pyGIMLi/pyBERT startup\n",
    "### Installation\n",
    "\n",
    "pyGIMLi is a Python library that can be installed on all major platforms, also cloud computing. \n",
    "\n",
    "For installation see webpage https://www.pygimli.org/installation.html\n",
    "\n",
    "We recommend conda, either by Anaconda distribution (preferred on Windows) or Miniconda (preferred on Linux or Mac).\n",
    "\n",
    "The current pyGIMLi version v1.4.1 comes along with (depends on) several libraries:\n",
    "* NumPy library for numerical computing https://numpy.org/\n",
    "* SciPy library for scientific computation https://scipy.org/\n",
    "* MatPlotLib visualization package: https://matplotlib.org/\n",
    "* PyVista 3D visualization: https://pyvista.org/\n",
    "* Pandas data manipulation package: https://pandas.pydata.org/\n",
    "\n",
    "I just created a matching pyBERT version v2.4.2 that can be installed along with pyGIMLi and all its dependencies using a single line\n",
    "```\n",
    "conda create -n pg -c gimli -c conda-forge pybert=2.4.2 jupyter spyder\n",
    "```\n",
    "\n",
    "This creates a new environment named pg and installs pybert and other stuff into it.\n",
    "Note that we included two integrated development environments:\n",
    "* Spyder - a Matlab-like Python IDE: https://www.spyder-ide.org/\n",
    "* Jupyter Notebooks or JupyterLab: https://jupyter.org/\n",
    "\n",
    "On Windows, you can do it step by step by the Anaconda Navigator: First add the channels gimli and conda-forge to the channel list. Then create a new environment and install pybert as well as any other software into it.\n",
    "\n",
    "If pybert does not work (or you already did it before), one can install pyGIMLi by creating a new environment and install it \n",
    "```\n",
    "conda create -n pg -c gimli -c conda-forge pygimli=1.4.1 jupyter spyder\n",
    "```\n",
    "To use it we have to activate it and call the IDE\n",
    "```\n",
    "conda activate pg\n",
    "```\n",
    "\n",
    "You can then also install pybert later:\n",
    "```\n",
    "conda install -c gimli pybert=2.4.2\n",
    "```\n",
    "\n",
    "Another alternative is to get pybert (or pygimli) by git (or download a zip file) so that you don't have to wait for a new version. See [This link](https://www.pygimli.org/installation.html#staying-up-to-date)"
   ]
  },
  {
   "attachments": {},
   "cell_type": "markdown",
   "metadata": {},
   "source": [
    "\n",
    "### Notebooks\n",
    "\n",
    "To start working just call any of the IDE's\n",
    "```\n",
    "jupyter notebook\n",
    "```\n",
    "or\n",
    "```\n",
    "spyder\n",
    "```\n",
    "On Windows, one can call it directly from the Startmenu: Anaconda - Spyder (pg)\n",
    "\n",
    "Jupyter is an interactive-webbased IDE that is perfect for teaching and scripting as the results come along with the codes and the notebooks are rendered on github. One calls pieces of code (cells) step by step or as a whole. I personally like to work with [VSCode](https://code.visualstudio.com/) that can run both Python files as well as Jupyter notebooks.\n",
    "\n",
    "Notebooks are a nice way for teaching as you can write rich texts in [Markdown](https://www.markdownguide.org/) including headings, equations, images, references etc. along with your code that renders all output. I expect papers to be written as Notebooks.\n",
    "\n",
    "There are mainly two types of cells: for code and for Markdown (all the rest). Use the first for the code and the latter to document what you're doing.\n",
    "\n",
    "`Ctrl-Enter` runs the cell and shows the output, `Shift+Enter` does the same and switches to the next one. `Enter` or Double-click into a Markdown cell to edit. At the end you should run the notebook as a whole to ensure ordering."
   ]
  },
  {
   "cell_type": "markdown",
   "metadata": {},
   "source": [
    "\n",
    "### Scripting\n",
    "\n",
    "After installation, we should be able to import the package:\n"
   ]
  },
  {
   "cell_type": "code",
   "execution_count": 1,
   "metadata": {},
   "outputs": [],
   "source": [
    "import pygimli as pg"
   ]
  },
  {
   "attachments": {},
   "cell_type": "markdown",
   "metadata": {},
   "source": [
    "All symbols can be reached through `pg`. See https://www.pygimli.org/pygimliapi/index.html for an overview of modules.\n",
    "\n",
    "We can also import specific modules or single functions"
   ]
  },
  {
   "cell_type": "code",
   "execution_count": 2,
   "metadata": {},
   "outputs": [],
   "source": [
    "import pygimli.meshtools as mt  # the meshtools module\n",
    "from pygimli.physics import ert  # the ERT module\n",
    "from pygimli.viewer.mpl import drawModel"
   ]
  },
  {
   "attachments": {},
   "cell_type": "markdown",
   "metadata": {},
   "source": [
    "Likewise, you can import pybert:"
   ]
  },
  {
   "cell_type": "code",
   "execution_count": 1,
   "metadata": {},
   "outputs": [],
   "source": [
    "import pybert as pb"
   ]
  },
  {
   "attachments": {},
   "cell_type": "markdown",
   "metadata": {},
   "source": [
    "We sometimes also explicitly import numpy or matplotlib."
   ]
  },
  {
   "cell_type": "code",
   "execution_count": 2,
   "metadata": {},
   "outputs": [],
   "source": [
    "import numpy as np\n",
    "import matplotlib.pyplot as plt"
   ]
  },
  {
   "attachments": {},
   "cell_type": "markdown",
   "metadata": {},
   "source": [
    "## What's the difference between pyGIMLi and BERT?\n",
    "\n",
    "Historically, we started developing BERT (Rücker et al., 2006; Günther et al., 2006). Subsequently, BERT became one application based on the GIMLi C++ core (pgcore) upon which we later build pyGIMLi (Rücker et al., 2017). Later, the BERT was transferred to Python under the name pyBERT. However, most things were moved to the ERT module, i.e. standard ERT modelling and inversion are done without pyBERT. BERT is mainly \n",
    "* a collection of examples, both with command-line and Python scripts, and How-To recipes\n",
    "* holding pyBERT, a Python library for specific tasks not included in the ERT module\n",
    "\n",
    "* data importers and exporters for various formats \n",
    "* FDIP (Frequency-domain Induced Polarization) class for constrained inversion (Günther & Martin, 2016)\n",
    "* TDIP (Time-domain Induced Polarization) class for manipulating TD field data and decays (Martin et al., 2020)\n",
    "* specific utilities for data processing, error estimation etc. \n",
    "* timeseries processing for large-scale ERT\n"
   ]
  },
  {
   "attachments": {},
   "cell_type": "markdown",
   "metadata": {},
   "source": [
    "### References\n",
    "\n",
    "Günther, T., Rücker, C. & Spitzer, K. (2006): 3-D modeling and inversion of DC resistivity data incorporating topography – Part II: Inversion. Geophys. J. Int. 166, 506-517, https://doi.org/10.1111/j.1365-246X.2006.03011.x.\n",
    "\n",
    "Rücker, C., Günther, T. & Spitzer, K. (2006): 3-D modeling and inversion of DC resistivity data incorporating topography – Part I: Modeling. Geophys. J. Int. 166, 495-505 https://doi.org/10.1111/j.1365-246X.2006.03010.x.\n",
    "\n",
    "Günther, T. & Martin, T. (2016): Spectral two-dimensional inversion of frequency-domain induced polarisation data from a mining slag heap. Journal of Applied Geophysics 135, 436-448, https://doi.org/10.1016/j.jappgeo.2016.01.008.\n",
    "\n",
    "Rücker, C., Günther, T., Wagner, F.M. (2017): pyGIMLi: An open-source library for modelling and inversion in geophysics, Computers & Geosciences 109, 106-123, https://doi.org/10.1016/j.cageo.2017.07.011.\n",
    "\n",
    "Martin, T., Günther, T., Orozco, A.F. & Dahlin, T. (2020): Evaluation of spectral induced polarization field measurements in time and frequency domain, J. Appl. Geophys. 180, 104141, doi:10.1016/j.jappgeo.2020.104141."
   ]
  }
 ],
 "metadata": {
  "kernelspec": {
   "display_name": "pg14",
   "language": "python",
   "name": "python3"
  },
  "language_info": {
   "codemirror_mode": {
    "name": "ipython",
    "version": 3
   },
   "file_extension": ".py",
   "mimetype": "text/x-python",
   "name": "python",
   "nbconvert_exporter": "python",
   "pygments_lexer": "ipython3",
   "version": "3.9.16"
  },
  "orig_nbformat": 4
 },
 "nbformat": 4,
 "nbformat_minor": 2
}
