{
 "cells": [
  {
   "attachments": {},
   "cell_type": "markdown",
   "metadata": {},
   "source": [
    "## pyGIMLi startup\n",
    "\n",
    "pyGIMLi is a Python library that can be installed on all major platforms, also cloud computing. \n",
    "\n",
    "For installation see webpage https://www.pygimli.org/installation.html\n",
    "\n",
    "We recommend conda, either by Anaconda distribution (preferred on Windows) or Miniconda (preferred on Linux or Mac).\n",
    "\n",
    "The current version v1.4.1 comes along with (depends on) several libraries:\n",
    "* NumPy library for numerical computing https://numpy.org/\n",
    "* SciPy library for scientific computation https://scipy.org/\n",
    "* MatPlotLib visualization package: https://matplotlib.org/\n",
    "* PyVista 3D visualization: https://pyvista.org/\n",
    "* Pandas data manipulation package: https://pandas.pydata.org/\n",
    "\n",
    "We install pyGIMLi by creating a new environment and install it along with two IDEs Jupyter and Spyder\n",
    "```\n",
    "conda create -n pg -c gimli -c conda-forge pygimli=1.4.1 jupyter spyder\n",
    "```\n",
    "To use it we have to activate it and call the IDE\n",
    "```\n",
    "conda activate pg\n",
    "jupyter notebook\n",
    "```\n",
    "On Windows, one can call it directly from the Startmenu: Anaconda - Spyder (pg)\n",
    "\n",
    "Jupyter is an interactive-webbased IDE that is perfect for teaching and scripting as the results come along with the codes and the notebooks are rendered on github. One calls pieces of code (cells) step by step or as a whole. I personally like to work with VSCode that can both run Python files as well as Jupyter notebooks.\n",
    "\n",
    "After installation, we should be able to import the package:\n"
   ]
  },
  {
   "cell_type": "code",
   "execution_count": 1,
   "metadata": {},
   "outputs": [],
   "source": [
    "import pygimli as pg"
   ]
  },
  {
   "attachments": {},
   "cell_type": "markdown",
   "metadata": {},
   "source": [
    "All symbols can be reached through `pg`. See https://www.pygimli.org/pygimliapi/index.html for an overview of modules.\n",
    "\n",
    "We can also import specific modules or single functions"
   ]
  },
  {
   "cell_type": "code",
   "execution_count": 2,
   "metadata": {},
   "outputs": [],
   "source": [
    "import pygimli.meshtools as mt  # the meshtools module\n",
    "from pygimli.physics import ert  # the ERT module\n",
    "from pygimli.viewer.mpl import drawModel"
   ]
  },
  {
   "attachments": {},
   "cell_type": "markdown",
   "metadata": {},
   "source": [
    "Additionally, we need to install pyBERT. As there is no current conda package anymore, we "
   ]
  },
  {
   "attachments": {},
   "cell_type": "markdown",
   "metadata": {},
   "source": [
    "## What's the difference between pyGIMLi and BERT.\n",
    "\n",
    "Historically, we started developing BERT (Rücker et al., 2006; Günther et al., 2006). Subsequently, BERT became one application based on the GIMLi C++ core (pgcore) upon which we later build pyGIMLi (Rücker et al., 2017). Later, the BERT was transferred to Python under the name pyBERT. However, most things were moved to the ERT module, i.e. standard ERT modelling and inversion are done without pyBERT. BERT is mainly \n",
    "* a collection of examples, both with command-line and Python scripts, and How-To recipes\n",
    "* holding pyBERT, a Python library for specific tasks not included in the ERT module\n",
    "\n",
    "* data importers and exporters for various formats \n",
    "* FDIP (Frequency-domain Induced Polarization) class for constrained inversion (Günther & Martin, 2016)\n",
    "* TDIP (Time-domain Induced Polarization) class for manipulating \n",
    "* specific utilities for data processing, error estimation etc.\n",
    "* timeseries processing for large-scale ERT\n"
   ]
  },
  {
   "attachments": {},
   "cell_type": "markdown",
   "metadata": {},
   "source": [
    "### References\n",
    "\n",
    "Günther, T., Rücker, C. & Spitzer, K. (2006): 3-D modeling and inversion of DC resistivity data incorporating topography – Part II: Inversion. Geophys. J. Int. 166, 506-517, https://doi.org/10.1111/j.1365-246X.2006.03011.x.\n",
    "\n",
    "Rücker, C., Günther, T. & Spitzer, K. (2006): 3-D modeling and inversion of DC resistivity data incorporating\n",
    "topography – Part I: Modeling. Geophys. J. Int. 166, 495-505 https://doi.org/10.1111/j.1365-246X.2006.03010.x.\n",
    "\n",
    "Günther, T. & Martin, T. (2016): Spectral two-dimensional inversion of frequency-domain induced polarisation\n",
    "data from a mining slag heap. Journal of Applied Geophysics 135, 436-448, https://doi.org/10.1016/j.jappgeo.2016.01.008.\n",
    "\n",
    "Rücker, C., Günther, T., Wagner, F.M. (2017): pyGIMLi: An open-source library for modelling and inversion in\n",
    "geophysics, Computers & Geosciences 109, 106-123, https://doi.org/10.1016/j.cageo.2017.07.011."
   ]
  }
 ],
 "metadata": {
  "kernelspec": {
   "display_name": "pg14",
   "language": "python",
   "name": "python3"
  },
  "language_info": {
   "codemirror_mode": {
    "name": "ipython",
    "version": 3
   },
   "file_extension": ".py",
   "mimetype": "text/x-python",
   "name": "python",
   "nbconvert_exporter": "python",
   "pygments_lexer": "ipython3",
   "version": "3.9.16"
  },
  "orig_nbformat": 4
 },
 "nbformat": 4,
 "nbformat_minor": 2
}
