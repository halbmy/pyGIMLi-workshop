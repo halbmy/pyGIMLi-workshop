{
 "cells": [
  {
   "attachments": {},
   "cell_type": "markdown",
   "metadata": {},
   "source": [
    "# Collection of topics\n",
    "## What we will cover today\n",
    "\n",
    "* basics (mesh, data, RMS/chi2)\n",
    "* ERT modelling, arrays, sensitivity, and inversion\n",
    "* complex-valued IP modelling (FD)?\n",
    "* TDIP modelling\n",
    "* DC/TDIP data processing and inversion \n",
    "* timelapse inversion\n",
    "(all in 2D)"
   ]
  },
  {
   "attachments": {},
   "cell_type": "markdown",
   "metadata": {},
   "source": [
    "## We DON'T cover (but might be interesting)\n",
    "* 3D DC/IP modelling and inversion\n",
    "* 2D/3D DC/IP crosshole geometries\n",
    "* traveltime tomography\n",
    "* 2D/3D gravity and magnetics modelling and inversion\n",
    "* different kinds of EM (FDEM, TDEM) in 1D or 3D (talk on Thursday)\n",
    "*"
   ]
  },
  {
   "attachments": {},
   "cell_type": "markdown",
   "metadata": {},
   "source": [
    "## What could be topics of today\n",
    "\n",
    "* [ ] region-wise regularization: [Lake example](https://www.pygimli.org/_tutorials_auto/3_inversion/plot_8-regionWise.html)\n",
    "* [ ] incorporation of prior constraints: [Prior example](https://www.pygimli.org/_examples_auto/6_inversion/plot_5_ert_with_priors.html)\n",
    "* [ ] laboratory SIP (Spectral Induced Polarization) spectra with `SIPSPectrum`\n",
    "* [ ] The decay class `Decay` from pybert\n",
    "* [ ] comparison between time-domain and frequency domain"
   ]
  }
 ],
 "metadata": {
  "language_info": {
   "name": "python"
  },
  "orig_nbformat": 4
 },
 "nbformat": 4,
 "nbformat_minor": 2
}
