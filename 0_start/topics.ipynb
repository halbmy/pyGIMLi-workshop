{
 "cells": [
  {
   "attachments": {},
   "cell_type": "markdown",
   "metadata": {},
   "source": [
    "## Collection of topics\n",
    "\n",
    "* basics (mesh, data, RMS/chi2)\n",
    "* ERT modelling, arrays, sensitivity, and inversion\n",
    "* IP modelling (FD)\n",
    "* TDIP modelling\n",
    "* DC/TDIP inversion \n",
    "* timelapse inversion\n"
   ]
  }
 ],
 "metadata": {
  "language_info": {
   "name": "python"
  },
  "orig_nbformat": 4
 },
 "nbformat": 4,
 "nbformat_minor": 2
}
